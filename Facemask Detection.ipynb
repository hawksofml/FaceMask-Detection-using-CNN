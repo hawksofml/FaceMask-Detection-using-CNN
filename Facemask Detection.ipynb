{
 "cells": [
  {
   "cell_type": "code",
   "execution_count": 8,
   "id": "864df649-7659-4c15-92e0-85ac3b25ad0b",
   "metadata": {},
   "outputs": [],
   "source": [
    "import os\n",
    "import numpy as np\n",
    "import matplotlib.pyplot as plt\n",
    "from tensorflow.keras.preprocessing.image import ImageDataGenerator\n",
    "from tensorflow.keras.applications import MobileNetV2\n",
    "from tensorflow.keras.layers import Input, Dense, Dropout, Flatten, GlobalAveragePooling2D\n",
    "from tensorflow.keras.models import Model\n",
    "from tensorflow.keras.optimizers import Adam\n",
    "from tensorflow.keras.callbacks import ModelCheckpoint\n"
   ]
  },
  {
   "cell_type": "code",
   "execution_count": 11,
   "id": "2e154191-3801-411e-966c-013fbd3e27e8",
   "metadata": {},
   "outputs": [
    {
     "name": "stderr",
     "output_type": "stream",
     "text": [
      "<>:4: SyntaxWarning: invalid escape sequence '\\i'\n",
      "<>:4: SyntaxWarning: invalid escape sequence '\\i'\n",
      "C:\\Users\\Jitendra Lahre\\AppData\\Local\\Temp\\ipykernel_2996\\1157331203.py:4: SyntaxWarning: invalid escape sequence '\\i'\n",
      "  DATASET_PATH ='D:\\intern project\\data'\n"
     ]
    }
   ],
   "source": [
    "IMG_SIZE =224\n",
    "BATCH_SIZE =32\n",
    "EPOCHS =10\n",
    "DATASET_PATH ='D:\\intern project\\data'"
   ]
  },
  {
   "cell_type": "code",
   "execution_count": 12,
   "id": "b048a07f-fe47-42f4-a01a-6ab6439734d8",
   "metadata": {},
   "outputs": [],
   "source": [
    "train_datagen = ImageDataGenerator(\n",
    "    rescale=1./255,\n",
    "    rotation_range=15,\n",
    "    zoom_range=0.2,\n",
    "    horizontal_flip=True,\n",
    "    validation_split=0.2\n",
    ")"
   ]
  },
  {
   "cell_type": "code",
   "execution_count": 13,
   "id": "81017fea-8bb6-4da0-9afe-425e1244b441",
   "metadata": {},
   "outputs": [
    {
     "name": "stdout",
     "output_type": "stream",
     "text": [
      "Found 6043 images belonging to 2 classes.\n"
     ]
    }
   ],
   "source": [
    "train_generator = train_datagen.flow_from_directory(\n",
    "    DATASET_PATH,\n",
    "    target_size=(IMG_SIZE, IMG_SIZE),\n",
    "    batch_size=BATCH_SIZE,\n",
    "    class_mode='categorical',\n",
    "    subset='training'\n",
    ")"
   ]
  },
  {
   "cell_type": "code",
   "execution_count": 14,
   "id": "3a0f2b2d-bee2-407c-b8d0-704d25ef980b",
   "metadata": {},
   "outputs": [
    {
     "name": "stderr",
     "output_type": "stream",
     "text": [
      "C:\\Users\\Jitendra Lahre\\AppData\\Local\\Temp\\ipykernel_2996\\3764807294.py:1: UserWarning: `input_shape` is undefined or non-square, or `rows` is not in [96, 128, 160, 192, 224]. Weights for input shape (224, 224) will be loaded as the default.\n",
      "  base_model = MobileNetV2(weights=\"imagenet\", include_top=False, input_tensor=Input(shape=(IMG_SIZE, IMG_SIZE, 3)))\n"
     ]
    }
   ],
   "source": [
    "base_model = MobileNetV2(weights=\"imagenet\", include_top=False, input_tensor=Input(shape=(IMG_SIZE, IMG_SIZE, 3)))"
   ]
  },
  {
   "cell_type": "code",
   "execution_count": 15,
   "id": "ff863ec0-5bac-47ee-8981-f190c4d3289a",
   "metadata": {},
   "outputs": [],
   "source": [
    "base_model.trainable = False"
   ]
  },
  {
   "cell_type": "code",
   "execution_count": 16,
   "id": "972b494a-0fae-441e-952d-7cd2c89c1d94",
   "metadata": {},
   "outputs": [],
   "source": [
    "x = base_model.output\n",
    "x = GlobalAveragePooling2D()(x)\n",
    "x = Dense(128, activation=\"relu\")(x)\n",
    "x = Dropout(0.5)(x)\n",
    "outputs = Dense(2, activation=\"softmax\")(x)\n",
    "\n",
    "model = Model(inputs=base_model.input, outputs=outputs)"
   ]
  },
  {
   "cell_type": "code",
   "execution_count": 17,
   "id": "0ca06f44-57a1-44e5-97b0-eecd5aa9dde3",
   "metadata": {},
   "outputs": [],
   "source": [
    "model.compile(optimizer=Adam(learning_rate=1e-4),\n",
    "              loss='categorical_crossentropy',\n",
    "              metrics=['accuracy'])"
   ]
  },
  {
   "cell_type": "code",
   "execution_count": 19,
   "id": "aa84bc13-9cc8-4b1c-8e4a-e039f4ef5e7d",
   "metadata": {},
   "outputs": [],
   "source": [
    "checkpoint = ModelCheckpoint(\"mask_detector.keras\", monitor=\"val_accuracy\", save_best_only=True)"
   ]
  },
  {
   "cell_type": "code",
   "execution_count": 21,
   "id": "aa8d63d7-ea3e-4f0b-9309-ad34ef22efcb",
   "metadata": {},
   "outputs": [
    {
     "name": "stdout",
     "output_type": "stream",
     "text": [
      "Found 6043 images belonging to 2 classes.\n",
      "Found 1510 images belonging to 2 classes.\n"
     ]
    }
   ],
   "source": [
    "from tensorflow.keras.preprocessing.image import ImageDataGenerator\n",
    "\n",
    "train_datagen = ImageDataGenerator(\n",
    "    rescale=1./255,\n",
    "    rotation_range=15,\n",
    "    zoom_range=0.2,\n",
    "    horizontal_flip=True,\n",
    "    validation_split=0.2\n",
    ")\n",
    "\n",
    "train_generator = train_datagen.flow_from_directory(\n",
    "    DATASET_PATH,\n",
    "    target_size=(IMG_SIZE, IMG_SIZE),\n",
    "    batch_size=BATCH_SIZE,\n",
    "    class_mode='categorical',\n",
    "    subset='training'\n",
    ")\n",
    "\n",
    "val_generator = train_datagen.flow_from_directory(\n",
    "    DATASET_PATH,\n",
    "    target_size=(IMG_SIZE, IMG_SIZE),\n",
    "    batch_size=BATCH_SIZE,\n",
    "    class_mode='categorical',\n",
    "    subset='validation'\n",
    ")\n"
   ]
  },
  {
   "cell_type": "code",
   "execution_count": 22,
   "id": "b518ab76-9fa7-4158-87e6-8e53cc9e4156",
   "metadata": {},
   "outputs": [
    {
     "name": "stderr",
     "output_type": "stream",
     "text": [
      "C:\\Users\\Jitendra Lahre\\AppData\\Local\\Programs\\Python\\Python312\\Lib\\site-packages\\keras\\src\\trainers\\data_adapters\\py_dataset_adapter.py:121: UserWarning: Your `PyDataset` class should call `super().__init__(**kwargs)` in its constructor. `**kwargs` can include `workers`, `use_multiprocessing`, `max_queue_size`. Do not pass these arguments to `fit()`, as they will be ignored.\n",
      "  self._warn_if_super_not_called()\n"
     ]
    },
    {
     "name": "stdout",
     "output_type": "stream",
     "text": [
      "Epoch 1/10\n"
     ]
    },
    {
     "name": "stderr",
     "output_type": "stream",
     "text": [
      "C:\\Users\\Jitendra Lahre\\AppData\\Local\\Programs\\Python\\Python312\\Lib\\site-packages\\keras\\src\\models\\functional.py:238: UserWarning: The structure of `inputs` doesn't match the expected structure.\n",
      "Expected: ['keras_tensor']\n",
      "Received: inputs=Tensor(shape=(None, 224, 224, 3))\n",
      "  warnings.warn(msg)\n"
     ]
    },
    {
     "name": "stdout",
     "output_type": "stream",
     "text": [
      "\u001b[1m 26/188\u001b[0m \u001b[32m━━\u001b[0m\u001b[37m━━━━━━━━━━━━━━━━━━\u001b[0m \u001b[1m2:25\u001b[0m 897ms/step - accuracy: 0.5745 - loss: 0.8063"
     ]
    },
    {
     "name": "stderr",
     "output_type": "stream",
     "text": [
      "C:\\Users\\Jitendra Lahre\\AppData\\Local\\Programs\\Python\\Python312\\Lib\\site-packages\\PIL\\Image.py:1000: UserWarning: Palette images with Transparency expressed in bytes should be converted to RGBA images\n",
      "  warnings.warn(\n"
     ]
    },
    {
     "name": "stdout",
     "output_type": "stream",
     "text": [
      "\u001b[1m188/188\u001b[0m \u001b[32m━━━━━━━━━━━━━━━━━━━━\u001b[0m\u001b[37m\u001b[0m \u001b[1m203s\u001b[0m 1s/step - accuracy: 0.7911 - loss: 0.4341 - val_accuracy: 0.9688 - val_loss: 0.0932\n",
      "Epoch 2/10\n",
      "\u001b[1m  1/188\u001b[0m \u001b[37m━━━━━━━━━━━━━━━━━━━━\u001b[0m \u001b[1m1:28\u001b[0m 474ms/step - accuracy: 0.9375 - loss: 0.1333"
     ]
    },
    {
     "name": "stderr",
     "output_type": "stream",
     "text": [
      "C:\\Users\\Jitendra Lahre\\AppData\\Local\\Programs\\Python\\Python312\\Lib\\site-packages\\keras\\src\\trainers\\epoch_iterator.py:107: UserWarning: Your input ran out of data; interrupting training. Make sure that your dataset or generator can generate at least `steps_per_epoch * epochs` batches. You may need to use the `.repeat()` function when building your dataset.\n",
      "  self._interrupted_warning()\n"
     ]
    },
    {
     "name": "stdout",
     "output_type": "stream",
     "text": [
      "\u001b[1m188/188\u001b[0m \u001b[32m━━━━━━━━━━━━━━━━━━━━\u001b[0m\u001b[37m\u001b[0m \u001b[1m28s\u001b[0m 145ms/step - accuracy: 0.9375 - loss: 0.1333 - val_accuracy: 0.9714 - val_loss: 0.0872\n",
      "Epoch 3/10\n",
      "\u001b[1m188/188\u001b[0m \u001b[32m━━━━━━━━━━━━━━━━━━━━\u001b[0m\u001b[37m\u001b[0m \u001b[1m146s\u001b[0m 780ms/step - accuracy: 0.9615 - loss: 0.1001 - val_accuracy: 0.9741 - val_loss: 0.0715\n",
      "Epoch 4/10\n",
      "\u001b[1m188/188\u001b[0m \u001b[32m━━━━━━━━━━━━━━━━━━━━\u001b[0m\u001b[37m\u001b[0m \u001b[1m43s\u001b[0m 224ms/step - accuracy: 1.0000 - loss: 0.0262 - val_accuracy: 0.9787 - val_loss: 0.0634\n",
      "Epoch 5/10\n",
      "\u001b[1m188/188\u001b[0m \u001b[32m━━━━━━━━━━━━━━━━━━━━\u001b[0m\u001b[37m\u001b[0m \u001b[1m632s\u001b[0m 3s/step - accuracy: 0.9773 - loss: 0.0649 - val_accuracy: 0.9807 - val_loss: 0.0590\n",
      "Epoch 6/10\n",
      "\u001b[1m188/188\u001b[0m \u001b[32m━━━━━━━━━━━━━━━━━━━━\u001b[0m\u001b[37m\u001b[0m \u001b[1m43s\u001b[0m 227ms/step - accuracy: 1.0000 - loss: 0.0081 - val_accuracy: 0.9874 - val_loss: 0.0440\n",
      "Epoch 7/10\n",
      "\u001b[1m188/188\u001b[0m \u001b[32m━━━━━━━━━━━━━━━━━━━━\u001b[0m\u001b[37m\u001b[0m \u001b[1m1919s\u001b[0m 10s/step - accuracy: 0.9815 - loss: 0.0534 - val_accuracy: 0.9827 - val_loss: 0.0536\n",
      "Epoch 8/10\n",
      "\u001b[1m188/188\u001b[0m \u001b[32m━━━━━━━━━━━━━━━━━━━━\u001b[0m\u001b[37m\u001b[0m \u001b[1m42s\u001b[0m 220ms/step - accuracy: 0.9688 - loss: 0.0977 - val_accuracy: 0.9801 - val_loss: 0.0617\n",
      "Epoch 9/10\n",
      "\u001b[1m188/188\u001b[0m \u001b[32m━━━━━━━━━━━━━━━━━━━━\u001b[0m\u001b[37m\u001b[0m \u001b[1m537s\u001b[0m 3s/step - accuracy: 0.9812 - loss: 0.0480 - val_accuracy: 0.9827 - val_loss: 0.0492\n",
      "Epoch 10/10\n",
      "\u001b[1m188/188\u001b[0m \u001b[32m━━━━━━━━━━━━━━━━━━━━\u001b[0m\u001b[37m\u001b[0m \u001b[1m46s\u001b[0m 244ms/step - accuracy: 0.9688 - loss: 0.0460 - val_accuracy: 0.9840 - val_loss: 0.0486\n"
     ]
    }
   ],
   "source": [
    "history = model.fit(\n",
    "    train_generator,\n",
    "    steps_per_epoch=train_generator.samples // BATCH_SIZE,\n",
    "    validation_data=val_generator,\n",
    "    validation_steps=val_generator.samples // BATCH_SIZE,\n",
    "    epochs=EPOCHS,\n",
    "    callbacks=[checkpoint]\n",
    ")"
   ]
  },
  {
   "cell_type": "code",
   "execution_count": 23,
   "id": "f070aeaf-3f3b-461a-ab56-b2933da99438",
   "metadata": {},
   "outputs": [],
   "source": [
    "model.save(\"mask_detector_final.keras\")"
   ]
  },
  {
   "cell_type": "code",
   "execution_count": 24,
   "id": "67a169c8-d6be-47a0-bee0-e6091f5481a9",
   "metadata": {},
   "outputs": [
    {
     "name": "stdout",
     "output_type": "stream",
     "text": [
      "Final Training Accuracy: 0.96875\n",
      "Final Validation Accuracy: 0.9840425252914429\n"
     ]
    }
   ],
   "source": [
    "# Print final accuracy\n",
    "print(\"Final Training Accuracy:\", history.history['accuracy'][-1])\n",
    "print(\"Final Validation Accuracy:\", history.history['val_accuracy'][-1])\n"
   ]
  },
  {
   "cell_type": "code",
   "execution_count": 25,
   "id": "024b2f7b-8b17-4fb0-b2e2-713eda9b286d",
   "metadata": {},
   "outputs": [
    {
     "data": {
      "image/png": "[encoded data removed]",
      "text/plain": [
       "<Figure size 640x480 with 1 Axes>"
      ]
     },
     "metadata": {},
     "output_type": "display_data"
    }
   ],
   "source": [
    "import matplotlib.pyplot as plt\n",
    "\n",
    "plt.plot(history.history['accuracy'], label='Training Accuracy')\n",
    "plt.plot(history.history['val_accuracy'], label='Validation Accuracy')\n",
    "plt.title('Model Accuracy')\n",
    "plt.xlabel('Epoch')\n",
    "plt.ylabel('Accuracy')\n",
    "plt.legend()\n",
    "plt.grid()\n",
    "plt.show()\n"
   ]
  },
  {
   "cell_type": "code",
   "execution_count": 30,
   "id": "ec609c03-8098-4922-ae27-e3848ee2558e",
   "metadata": {},
   "outputs": [],
   "source": [
    "from tensorflow.keras.models import load_model\n"
   ]
  },
  {
   "cell_type": "code",
   "execution_count": 31,
   "id": "1e0773f4-898e-4b60-bead-6e4eeb658dfc",
   "metadata": {},
   "outputs": [],
   "source": [
    "model = load_model(\"mask_detector_final.keras\")"
   ]
  },
  {
   "cell_type": "code",
   "execution_count": 33,
   "id": "970687af-9728-4719-8cfe-1ae8937fa464",
   "metadata": {},
   "outputs": [],
   "source": [
    "from tensorflow.keras.preprocessing import image\n",
    "import numpy as np"
   ]
  },
  {
   "cell_type": "code",
   "execution_count": 37,
   "id": "625a3a33-228e-4614-84d5-ce33a1fa56ae",
   "metadata": {},
   "outputs": [
    {
     "name": "stderr",
     "output_type": "stream",
     "text": [
      "<>:1: SyntaxWarning: invalid escape sequence '\\i'\n",
      "<>:1: SyntaxWarning: invalid escape sequence '\\i'\n",
      "C:\\Users\\Jitendra Lahre\\AppData\\Local\\Temp\\ipykernel_2996\\1922797485.py:1: SyntaxWarning: invalid escape sequence '\\i'\n",
      "  img = image.load_img(\"D:\\intern project\\data\\without_mask\\without_mask_15.jpg\", target_size=(224, 224))  # Replace with actual path\n"
     ]
    }
   ],
   "source": [
    "img = image.load_img(\"D:\\intern project\\data\\without_mask\\without_mask_15.jpg\", target_size=(224, 224))  # Replace with actual path\n",
    "img_array = image.img_to_array(img)\n",
    "img_array = np.expand_dims(img_array, axis=0) / 255.0"
   ]
  },
  {
   "cell_type": "code",
   "execution_count": 38,
   "id": "27fa75d3-50ad-45f0-a945-dc778eba6ef9",
   "metadata": {},
   "outputs": [
    {
     "name": "stdout",
     "output_type": "stream",
     "text": [
      "\u001b[1m1/1\u001b[0m \u001b[32m━━━━━━━━━━━━━━━━━━━━\u001b[0m\u001b[37m\u001b[0m \u001b[1m0s\u001b[0m 44ms/step\n"
     ]
    }
   ],
   "source": [
    "prediction = model.predict(img_array)[0]\n"
   ]
  },
  {
   "cell_type": "code",
   "execution_count": 39,
   "id": "50ad7d57-c2c3-4d13-bc6b-96aeda15b063",
   "metadata": {},
   "outputs": [
    {
     "name": "stdout",
     "output_type": "stream",
     "text": [
      "Prediction: No Mask (63.81%)\n"
     ]
    }
   ],
   "source": [
    "labels = [\"Mask\", \"No Mask\"]\n",
    "predicted_class = labels[np.argmax(prediction)]\n",
    "confidence = np.max(prediction) * 100\n",
    "\n",
    "print(f\"Prediction: {predicted_class} ({confidence:.2f}%)\")"
   ]
  },
  {
   "cell_type": "code",
   "execution_count": 40,
   "id": "c98e07f0-bb75-4ee4-9a72-cc1925cffd70",
   "metadata": {},
   "outputs": [],
   "source": [
    "import cv2\n",
    "import numpy as np\n",
    "from tensorflow.keras.models import load_model\n",
    "from tensorflow.keras.preprocessing.image import img_to_array\n"
   ]
  },
  {
   "cell_type": "code",
   "execution_count": 41,
   "id": "e6ad28e0-e2fa-42c3-bb54-aaa05b91f588",
   "metadata": {},
   "outputs": [],
   "source": [
    "# Load face detector (Haar Cascade)\n",
    "face_cascade = cv2.CascadeClassifier(cv2.data.haarcascades + 'haarcascade_frontalface_default.xml')\n"
   ]
  },
  {
   "cell_type": "code",
   "execution_count": 42,
   "id": "30df021c-9ba6-4dcd-a479-c40ac7a0fcfd",
   "metadata": {},
   "outputs": [],
   "source": [
    "# Load your trained mask detection model\n",
    "model = load_model(\"mask_detector_final.keras\")  # or use \"mask_detector.h5\"\n"
   ]
  },
  {
   "cell_type": "code",
   "execution_count": 43,
   "id": "28a4dae1-3ed3-4203-b61e-2cd02eabef0e",
   "metadata": {},
   "outputs": [],
   "source": [
    "# Class labels\n",
    "labels = [\"Mask\", \"No Mask\"]\n"
   ]
  },
  {
   "cell_type": "code",
   "execution_count": null,
   "id": "747eafa1-7059-4f4d-94af-47e931328fca",
   "metadata": {},
   "outputs": [],
   "source": [
    "cap = cv2.VideoCapture(0)\n",
    "\n",
    "while True:\n",
    "    ret, frame = cap.read()\n",
    "    if not ret:\n",
    "        break\n",
    "\n",
    "    # Convert frame to grayscale for face detection\n",
    "    gray = cv2.cvtColor(frame, cv2.COLOR_BGR2GRAY)\n",
    "\n",
    "    # Detect faces\n",
    "    faces = face_cascade.detectMultiScale(gray, scaleFactor=1.1, minNeighbors=5)\n",
    "\n",
    "    for (x, y, w, h) in faces:\n",
    "        # Extract face region\n",
    "        face = frame[y:y+h, x:x+w]\n",
    "        face = cv2.resize(face, (224, 224))\n",
    "        face = img_to_array(face)\n",
    "        face = np.expand_dims(face, axis=0) / 255.0\n",
    "\n",
    "        # Predict mask or no mask\n",
    "        prediction = model.predict(face)[0]\n",
    "        label = labels[np.argmax(prediction)]\n",
    "        confidence = np.max(prediction) * 100\n",
    "\n",
    "        # Set bounding box color\n",
    "        color = (0, 255, 0) if label == \"Mask\" else (0, 0, 255)\n",
    "\n",
    "        # Display result\n",
    "        cv2.putText(frame, f\"{label} ({confidence:.2f}%)\", (x, y - 10),\n",
    "                    cv2.FONT_HERSHEY_SIMPLEX, 0.8, color, 2)\n",
    "        cv2.rectangle(frame, (x, y), (x + w, y + h), color, 2)\n",
    "\n",
    "    # Show video frame\n",
    "    cv2.imshow(\"Live Face Mask Detection\", frame)\n",
    "\n",
    "    # Press 'q' to quit\n",
    "    if cv2.waitKey(1) & 0xFF == ord('q'):\n",
    "        break\n",
    "\n",
    "# Cleanup\n",
    "cap.release()\n",
    "cv2.destroyAllWindows()"
   ]
  },
  {
   "cell_type": "code",
   "execution_count": null,
   "id": "54ab45f4-a534-41ef-959b-20d720bc44da",
   "metadata": {},
   "outputs": [],
   "source": []
  },
  {
   "cell_type": "code",
   "execution_count": null,
   "id": "42a9212e-52ed-4f4c-93c4-0f18e27208bd",
   "metadata": {},
   "outputs": [],
   "source": []
  },
  {
   "cell_type": "code",
   "execution_count": null,
   "id": "df0c26f8-5afe-4b06-b3f0-34b88e43b5be",
   "metadata": {},
   "outputs": [],
   "source": []
  }
 ],
 "metadata": {
  "kernelspec": {
   "display_name": "Python 3 (ipykernel)",
   "language": "python",
   "name": "python3"
  },
  "language_info": {
   "codemirror_mode": {
    "name": "ipython",
    "version": 3
   },
   "file_extension": ".py",
   "mimetype": "text/x-python",
   "name": "python",
   "nbconvert_exporter": "python",
   "pygments_lexer": "ipython3",
   "version": "3.12.3"
  }
 },
 "nbformat": 4,
 "nbformat_minor": 5
}
